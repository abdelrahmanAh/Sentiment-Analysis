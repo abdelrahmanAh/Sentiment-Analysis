{
  "cells": [
    {
      "cell_type": "markdown",
      "metadata": {
        "id": "view-in-github",
        "colab_type": "text"
      },
      "source": [
        "<a href=\"https://colab.research.google.com/github/abdelrahmanAh/Sentiment-Analysis/blob/main/sentiment_Analysis_by_conv.ipynb\" target=\"_parent\"><img src=\"https://colab.research.google.com/assets/colab-badge.svg\" alt=\"Open In Colab\"/></a>"
      ]
    },
    {
      "cell_type": "code",
      "execution_count": null,
      "metadata": {
        "id": "koFt9hnnVPnP"
      },
      "outputs": [],
      "source": [
        "import os\n",
        "import pandas as pd\n",
        "from tensorflow import keras\n",
        "from tensorflow.keras import layers\n",
        "import pickle\n",
        "import tensorflow as tf\n",
        "import numpy as np\n"
      ]
    },
    {
      "cell_type": "code",
      "execution_count": null,
      "metadata": {
        "colab": {
          "base_uri": "https://localhost:8080/"
        },
        "id": "zrHWNwklkpim",
        "outputId": "0e9f1711-b008-4fed-cc53-ba20163940e9"
      },
      "outputs": [
        {
          "output_type": "stream",
          "name": "stdout",
          "text": [
            "  % Total    % Received % Xferd  Average Speed   Time    Time     Time  Current\n",
            "                                 Dload  Upload   Total   Spent    Left  Speed\n",
            "100 80.2M  100 80.2M    0     0  12.2M      0  0:00:06  0:00:06 --:--:-- 18.2M\n"
          ]
        }
      ],
      "source": [
        "!curl -O https://ai.stanford.edu/~amaas/data/sentiment/aclImdb_v1.tar.gz"
      ]
    },
    {
      "cell_type": "code",
      "execution_count": null,
      "metadata": {
        "id": "VegEWaeGkvaP"
      },
      "outputs": [],
      "source": [
        "!tar -xf aclImdb_v1.tar.gz"
      ]
    },
    {
      "cell_type": "code",
      "execution_count": null,
      "metadata": {
        "id": "lTcECFoSUdTp"
      },
      "outputs": [],
      "source": [
        "!rm -r /content/aclImdb/train/unsup"
      ]
    },
    {
      "cell_type": "code",
      "execution_count": null,
      "metadata": {
        "colab": {
          "base_uri": "https://localhost:8080/"
        },
        "id": "jdTNf2XdlGKS",
        "outputId": "4557ddd7-916f-46d5-bce2-09823a171fd2"
      },
      "outputs": [
        {
          "output_type": "stream",
          "name": "stdout",
          "text": [
            "Found 25000 files belonging to 2 classes.\n",
            "Using 20000 files for training.\n",
            "Found 25000 files belonging to 2 classes.\n",
            "Using 5000 files for validation.\n",
            "Found 25000 files belonging to 2 classes.\n"
          ]
        }
      ],
      "source": [
        "batch_size=32\n",
        "rw_train_ds=tf.keras.utils.text_dataset_from_directory(\n",
        "   'aclImdb/train',batch_size=batch_size,validation_split=0.2,subset='training',\n",
        "    seed=1337\n",
        ")\n",
        "rw_val_ds=tf.keras.utils.text_dataset_from_directory(\n",
        "    'aclImdb/train',batch_size=batch_size,validation_split=0.2,subset='validation',\n",
        "    seed=1337\n",
        ")\n",
        "rw_test_ds=tf.keras.utils.text_dataset_from_directory('aclImdb/test',batch_size=batch_size)"
      ]
    },
    {
      "cell_type": "code",
      "execution_count": null,
      "metadata": {
        "colab": {
          "base_uri": "https://localhost:8080/"
        },
        "id": "GXF8kR2kmjfu",
        "outputId": "811d96d3-a25f-4f2a-fcf4-faf855a7c7f5"
      },
      "outputs": [
        {
          "output_type": "stream",
          "name": "stdout",
          "text": [
            "b'I\\'ve seen tons of science fiction from the 70s; some horrendously bad, and others thought provoking and truly frightening. Soylent Green fits into the latter category. Yes, at times it\\'s a little campy, and yes, the furniture is good for a giggle or two, but some of the film seems awfully prescient. Here we have a film, 9 years before Blade Runner, that dares to imagine the future as somthing dark, scary, and nihilistic. Both Charlton Heston and Edward G. Robinson fare far better in this than The Ten Commandments, and Robinson\\'s assisted-suicide scene is creepily prescient of Kevorkian and his ilk. Some of the attitudes are dated (can you imagine a filmmaker getting away with the \"women as furniture\" concept in our oh-so-politically-correct-90s?), but it\\'s rare to find a film from the Me Decade that actually can make you think. This is one I\\'d love to see on the big screen, because even in a widescreen presentation, I don\\'t think the overall scope of this film would receive its due. Check it out.'\n",
            "1\n",
            "b'First than anything, I\\'m not going to praise I\\xc3\\xb1arritu\\'s short film, even I\\'m Mexican and proud of his success in mainstream Hollywood.<br /><br />In another hand, I see most of the reviews focuses on their favorite (and not so) short films; but we are forgetting that there is a subtle bottom line that circles the whole compilation, and maybe it will not be so pleasant for American people. (Even if that was not the main purpose of the producers) <br /><br />What i\\'m talking about is that most of the short films does not show the suffering that WASP people went through because the terrorist attack on September 11th, but the suffering of the Other people.<br /><br />Do you need proofs about what i\\'m saying? Look, in the Bosnia short film, the message is: \"You cry because of the people who died in the Towers, but we (The Others = East Europeans) are crying long ago for the crimes committed against our women and nobody pay attention to us like the whole world has done to you\".<br /><br />Even though the Burkina Fasso story is more in comedy, there is a the same thought: \"You are angry because Osama Bin Laden punched you in an evil way, but we (The Others = Africans) should be more angry, because our people is dying of hunger, poverty and AIDS long time ago, and nobody pay attention to us like the whole world has done to you\".<br /><br />Look now at the Sean Penn short: The fall of the Twin Towers makes happy to a lonely (and alienated) man. So the message is that the Power and the Greed (symbolized by the Towers) must fall for letting the people see the sun rise and the flowers blossom? It is remarkable that this terrible bottom line has been proposed by an American. There is so much irony in this short film that it is close to be subversive.<br /><br />Well, the Ken Loach (very know because his anti-capitalism ideology) is much more clearly and shameless in going straight to the point: \"You are angry because your country has been attacked by evil forces, but we (The Others = Latin Americans) suffered at a similar date something worst, and nobody remembers our grief as the whole world has done to you\".<br /><br />It is like if the creative of this project wanted to say to Americans: \"You see now, America? You are not the only that have become victim of the world violence, you are not alone in your pain and by the way, we (the Others = the Non Americans) have been suffering a lot more than you from long time ago; so, we are in solidarity with you in your pain... and by the way, we are sorry because you have had some taste of your own medicine\" Only the Mexican and the French short films showed some compassion and sympathy for American people; the others are like a slap on the face for the American State, that is not equal to American People.'\n",
            "1\n",
            "b'Blood Castle (aka Scream of the Demon Lover, Altar of Blood, Ivanna--the best, but least exploitation cinema-sounding title, and so on) is a very traditional Gothic Romance film. That means that it has big, creepy castles, a headstrong young woman, a mysterious older man, hints of horror and the supernatural, and romance elements in the contemporary sense of that genre term. It also means that it is very deliberately paced, and that the film will work best for horror mavens who are big fans of understatement. If you love films like Robert Wise\\'s The Haunting (1963), but you also have a taste for late 1960s/early 1970s Spanish and Italian horror, you may love Blood Castle, as well.<br /><br />Baron Janos Dalmar (Carlos Quiney) lives in a large castle on the outskirts of a traditional, unspecified European village. The locals fear him because legend has it that whenever he beds a woman, she soon after ends up dead--the consensus is that he sets his ferocious dogs on them. This is quite a problem because the Baron has a very healthy appetite for women. At the beginning of the film, yet another woman has turned up dead and mutilated.<br /><br />Meanwhile, Dr. Ivanna Rakowsky (Erna Sch\\xc3\\xbcrer) has appeared in the center of the village, asking to be taken to Baron Dalmar\\'s castle. She\\'s an out-of-towner who has been hired by the Baron for her expertise in chemistry. Of course, no one wants to go near the castle. Finally, Ivanna finds a shady individual (who becomes even shadier) to take her. Once there, an odd woman who lives in the castle, Olga (Cristiana Galloni), rejects Ivanna and says that she shouldn\\'t be there since she\\'s a woman. Baron Dalmar vacillates over whether she should stay. She ends up staying, but somewhat reluctantly. The Baron has hired her to try to reverse the effects of severe burns, which the Baron\\'s brother, Igor, is suffering from.<br /><br />Unfortunately, the Baron\\'s brother appears to be just a lump of decomposing flesh in a vat of bizarre, blackish liquid. And furthermore, Ivanna is having bizarre, hallucinatory dreams. Just what is going on at the castle? Is the Baron responsible for the crimes? Is he insane? <br /><br />I wanted to like Blood Castle more than I did. As I mentioned, the film is very deliberate in its pacing, and most of it is very understated. I can go either way on material like that. I don\\'t care for The Haunting (yes, I\\'m in a very small minority there), but I\\'m a big fan of 1960s and 1970s European horror. One of my favorite directors is Mario Bava. I also love Dario Argento\\'s work from that period. But occasionally, Blood Castle moved a bit too slow for me at times. There are large chunks that amount to scenes of not very exciting talking alternated with scenes of Ivanna slowly walking the corridors of the castle.<br /><br />But the atmosphere of the film is decent. Director Jos\\xc3\\xa9 Luis Merino managed more than passable sets and locations, and they\\'re shot fairly well by Emanuele Di Cola. However, Blood Castle feels relatively low budget, and this is a Roger Corman-produced film, after all (which usually means a low-budget, though often surprisingly high quality \"quickie\"). So while there is a hint of the lushness of Bava\\'s colors and complex set decoration, everything is much more minimalist. Of course, it doesn\\'t help that the Retromedia print I watched looks like a 30-year old photograph that\\'s been left out in the sun too long. It appears \"washed out\", with compromised contrast.<br /><br />Still, Merino and Di Cola occasionally set up fantastic visuals. For example, a scene of Ivanna walking in a darkened hallway that\\'s shot from an exaggerated angle, and where an important plot element is revealed through shadows on a wall only. There are also a couple Ingmar Bergmanesque shots, where actors are exquisitely blocked to imply complex relationships, besides just being visually attractive and pulling your eye deep into the frame.<br /><br />The performances are fairly good, and the women--especially Sch\\xc3\\xbcrer--are very attractive. Merino exploits this fact by incorporating a decent amount of nudity. Sch\\xc3\\xbcrer went on to do a number of films that were as much soft corn porn as they were other genres, with English titles such as Sex Life in a Woman\\'s Prison (1974), Naked and Lustful (1974), Strip Nude for Your Killer (1975) and Erotic Exploits of a Sexy Seducer (1977). Blood Castle is much tamer, but in addition to the nudity, there are still mild scenes suggesting rape and bondage, and of course the scenes mixing sex and death.<br /><br />The primary attraction here, though, is probably the story, which is much a slow-burning romance as anything else. The horror elements, the mystery elements, and a somewhat unexpected twist near the end are bonuses, but in the end, Blood Castle is a love story, about a couple overcoming various difficulties and antagonisms (often with physical threats or harms) to be together.'\n",
            "1\n",
            "b\"I was talked into watching this movie by a friend who blubbered on about what a cute story this was.<br /><br />Yuck.<br /><br />I want my two hours back, as I could have done SO many more productive things with my time...like, for instance, twiddling my thumbs. I see nothing redeeming about this film at all, save for the eye-candy aspect of it...<br /><br />3/10 (and that's being generous)\"\n",
            "0\n",
            "b\"Michelle Rodriguez is the defining actress who could be the charging force for other actresses to look out for. She has the audacity to place herself in a rarely seen tough-girl role very early in her career (and pull it off), which is a feat that should be recognized. Although her later films pigeonhole her to that same role, this film was made for her ruggedness.<br /><br />Her character is a romanticized student/fighter/lover, struggling to overcome her disenchanted existence in the projects, which is a little overdone in film...but not by a girl. That aspect of this film isn't very original, but the story goes in depth when the heated relationships that this girl has to deal with come to a boil and her primal rage takes over.<br /><br />I haven't seen an actress take such an aggressive stance in movie-making yet, and I'm glad that she's getting that original twist out there in Hollywood. This film got a 7 from me because of the average story of ghetto youth, but it has such a great actress portraying a rarely-seen role in a minimal budget movie. Great work.\"\n",
            "1\n"
          ]
        }
      ],
      "source": [
        "for text_batch,label_batch in rw_train_ds.take(1):\n",
        "  for i in range(5):\n",
        "    print(text_batch.numpy()[i])\n",
        "    print(label_batch.numpy()[i])\n"
      ]
    },
    {
      "cell_type": "code",
      "execution_count": null,
      "metadata": {
        "colab": {
          "base_uri": "https://localhost:8080/"
        },
        "id": "qE7TjGNnnX4s",
        "outputId": "be034cf9-62e9-4d6e-f5fe-6ea4e215f476"
      },
      "outputs": [
        {
          "output_type": "execute_result",
          "data": {
            "text/plain": [
              "['neg', 'pos']"
            ]
          },
          "metadata": {},
          "execution_count": 11
        }
      ],
      "source": [
        "rw_train_ds.class_names"
      ]
    },
    {
      "cell_type": "code",
      "execution_count": null,
      "metadata": {
        "id": "sJzWyF4joSOg"
      },
      "outputs": [],
      "source": [
        "import string\n",
        "import re"
      ]
    },
    {
      "cell_type": "code",
      "execution_count": null,
      "metadata": {
        "id": "B2TIJ42ipgYE"
      },
      "outputs": [],
      "source": [
        "def custom_standraiztion(input_data):\n",
        "  lowercase=tf.strings.lower(input_data)\n",
        "  stripped_html=tf.strings.regex_replace(lowercase,\"<br />\",\" \")\n",
        "  return tf.strings.regex_replace(stripped_html,f\"[{re.escape(string.punctuation)}]\",\"\")"
      ]
    },
    {
      "cell_type": "code",
      "execution_count": null,
      "metadata": {
        "id": "cX0VFl-qpia6"
      },
      "outputs": [],
      "source": [
        "max_feature=20000\n",
        "embedding_dim=128\n",
        "seq_len=500"
      ]
    },
    {
      "cell_type": "code",
      "execution_count": null,
      "metadata": {
        "id": "-UKGf3-PqaOc"
      },
      "outputs": [],
      "source": [
        "vectorize_layer=layers.TextVectorization(standardize=custom_standraiztion,max_tokens=max_feature,\n",
        "                                         output_mode='int',output_sequence_length=seq_len)"
      ]
    },
    {
      "cell_type": "code",
      "execution_count": null,
      "metadata": {
        "id": "KVTyw5ORqlPV"
      },
      "outputs": [],
      "source": [
        "text_ds=rw_train_ds.map(lambda x,y:x)"
      ]
    },
    {
      "cell_type": "code",
      "execution_count": null,
      "metadata": {
        "colab": {
          "base_uri": "https://localhost:8080/"
        },
        "id": "HkGcPIITu3RT",
        "outputId": "31433961-f084-452e-8f28-f3fb6dee8697"
      },
      "outputs": [
        {
          "output_type": "stream",
          "name": "stdout",
          "text": [
            "tf.Tensor(b'This film moved me beyond comprehension, it is and will remain my favourite film of all time, mainly because it has almost every emotion all rolled into its 157 minutes. What is the hardest part for me to take is that whenever i want to hear the amazing music and songs from the film, I have to put it into my DVD player, so I was wondering if anyone anywhere knows who sings the songs in the film and where they can be found, as I have looked everywhere I can think sporadically over the past 5 years. My favourite quote from the film is when in court the advocate says \"But your own words ask for direct confrontation, isn\\'t that a direct call for violence?\" Biko replies \"Well you and I are in confrontation now, but I see no violence!!\"<br /><br />CRAIG ROBERTSON Fife, Scotland', shape=(), dtype=string)\n",
            "tf.Tensor(b\"Really...and incredible film that though isn't very popular...extremely touching and almost life altering...was for me at least.<br /><br />Definitely worth seeing and buying .....Added to my favorite movie list....it's number one now....<br /><br />This is a very touching movie that all people should see..<br /><br />The Man in the Moon.....we'll it's just incredible. It's now my favorite movie and I only saw it today and I'd recommend it to anyone above 15 as long as you're somewhat mature......If you don't really try to feel the characters emotions then you'll never get the true meaning and value of this movie....But it really is incredible....just watch it because it'll alter the way some people look at life....worth seeing 5/5\", shape=(), dtype=string)\n"
          ]
        }
      ],
      "source": [
        "for i in text_ds.take(1):\n",
        "  for n in range(2):\n",
        "    print(i[n])"
      ]
    },
    {
      "cell_type": "code",
      "execution_count": null,
      "metadata": {
        "id": "qij65cT2u4WL"
      },
      "outputs": [],
      "source": [
        "vectorize_layer.adapt(text_ds)"
      ]
    },
    {
      "cell_type": "code",
      "execution_count": null,
      "metadata": {
        "id": "S4FiLYh7vLVx"
      },
      "outputs": [],
      "source": [
        "def vectorize_text(text,label):\n",
        "  text=tf.expand_dims(text,-1)\n",
        "  return vectorize_layer(text),label"
      ]
    },
    {
      "cell_type": "code",
      "execution_count": null,
      "metadata": {
        "id": "j35hCO6-xKHU"
      },
      "outputs": [],
      "source": [
        "train_ds=rw_train_ds.map(vectorize_text)\n",
        "val_ds=rw_val_ds.map(vectorize_text)\n",
        "test_ds=rw_test_ds.map(vectorize_text)"
      ]
    },
    {
      "cell_type": "code",
      "execution_count": null,
      "metadata": {
        "id": "-ZExS8lvx9DI"
      },
      "outputs": [],
      "source": [
        "train_ds=train_ds.cache().prefetch(buffer_size=tf.data.AUTOTUNE)"
      ]
    },
    {
      "cell_type": "code",
      "execution_count": null,
      "metadata": {
        "id": "Gyx-YD-OyKCF"
      },
      "outputs": [],
      "source": [
        "test_ds=test_ds.cache().prefetch(buffer_size=tf.data.AUTOTUNE)"
      ]
    },
    {
      "cell_type": "code",
      "execution_count": null,
      "metadata": {
        "id": "5b0WBJnZyQw_"
      },
      "outputs": [],
      "source": [
        "val_ds=val_ds.cache().prefetch(buffer_size=tf.data.AUTOTUNE)"
      ]
    },
    {
      "cell_type": "code",
      "execution_count": null,
      "metadata": {
        "id": "KBfawXkJySdx"
      },
      "outputs": [],
      "source": [
        "inputs=layers.Input(shape=(None,),dtype='int64')\n",
        "x=layers.Embedding(max_feature,embedding_dim)(inputs)\n",
        "x=layers.Dropout(0.5)(x)\n",
        "\n",
        "x=layers.Conv1D(128,7,padding='valid',activation='relu',strides=3)(x)\n",
        "x=layers.Conv1D(128,7,padding='valid',activation='relu',strides=3)(x)\n",
        "\n",
        "x=layers.GlobalMaxPooling1D()(x)\n",
        "\n",
        "x=layers.Dense(256,activation='relu')(x)\n",
        "\n",
        "\n",
        "x=layers.Dropout(0.5)(x)\n",
        "\n",
        "prediction=layers.Dense(1,activation='sigmoid',name='predictions')(x)\n",
        "model=keras.Model(inputs,prediction)\n",
        "model.compile(loss=keras.losses.BinaryCrossentropy(),optimizer=keras.optimizers.Adam(),\n",
        "              metrics=['accuracy'])"
      ]
    },
    {
      "cell_type": "code",
      "execution_count": null,
      "metadata": {
        "colab": {
          "base_uri": "https://localhost:8080/"
        },
        "id": "1y7NR7MjYCI7",
        "outputId": "b29550f2-aa80-49d0-9341-aa0f6613265d"
      },
      "outputs": [
        {
          "output_type": "stream",
          "name": "stdout",
          "text": [
            "Epoch 1/4\n",
            "625/625 [==============================] - 114s 180ms/step - loss: 0.4862 - accuracy: 0.7225 - val_loss: 0.3506 - val_accuracy: 0.8464\n",
            "Epoch 2/4\n",
            "625/625 [==============================] - 113s 181ms/step - loss: 0.2172 - accuracy: 0.9135 - val_loss: 0.2966 - val_accuracy: 0.8790\n",
            "Epoch 3/4\n",
            "625/625 [==============================] - 118s 189ms/step - loss: 0.1138 - accuracy: 0.9597 - val_loss: 0.4509 - val_accuracy: 0.8500\n",
            "Epoch 4/4\n",
            "625/625 [==============================] - 137s 220ms/step - loss: 0.0636 - accuracy: 0.9773 - val_loss: 0.4482 - val_accuracy: 0.8694\n"
          ]
        },
        {
          "output_type": "execute_result",
          "data": {
            "text/plain": [
              "<keras.src.callbacks.History at 0x7a7952b79750>"
            ]
          },
          "metadata": {},
          "execution_count": 39
        }
      ],
      "source": [
        "epochs=4\n",
        "model.fit(train_ds,validation_data=val_ds,epochs=epochs)"
      ]
    },
    {
      "cell_type": "code",
      "execution_count": null,
      "metadata": {
        "colab": {
          "base_uri": "https://localhost:8080/"
        },
        "id": "RmuCzP4oYEAe",
        "outputId": "0f175f02-9ea0-4a51-f970-130bcd110070"
      },
      "outputs": [
        {
          "output_type": "stream",
          "name": "stdout",
          "text": [
            "782/782 [==============================] - 35s 44ms/step - loss: 0.4790 - accuracy: 0.8610\n"
          ]
        },
        {
          "output_type": "execute_result",
          "data": {
            "text/plain": [
              "[0.47898346185684204, 0.8609600067138672]"
            ]
          },
          "metadata": {},
          "execution_count": 40
        }
      ],
      "source": [
        "model.evaluate(test_ds)\n"
      ]
    },
    {
      "cell_type": "code",
      "execution_count": null,
      "metadata": {
        "id": "9gTuHBmVXuwy"
      },
      "outputs": [],
      "source": [
        "def text_analysis(text):\n",
        "\n",
        "\n",
        "  vec=vectorize_layer(text)\n",
        "  p=model.predict(tf.expand_dims(vec,0))\n",
        "  if p>.5 :\n",
        "    print(f'positive ')\n",
        "  else :\n",
        "    print(f'negative ')\n",
        "  return p"
      ]
    },
    {
      "cell_type": "code",
      "source": [
        "s=text_analysis('I  like the movie')\n",
        "print(s)"
      ],
      "metadata": {
        "colab": {
          "base_uri": "https://localhost:8080/"
        },
        "id": "5TDyyAa3nan6",
        "outputId": "0c9cfa8b-15ef-4dfe-eac4-f0cc0ed062d4"
      },
      "execution_count": null,
      "outputs": [
        {
          "output_type": "stream",
          "name": "stdout",
          "text": [
            "1/1 [==============================] - 0s 24ms/step\n",
            "positive \n",
            "[[0.5052487]]\n"
          ]
        }
      ]
    },
    {
      "cell_type": "code",
      "source": [
        "s=text_analysis('it is very good moviethe movie')\n",
        "print(s)\n"
      ],
      "metadata": {
        "colab": {
          "base_uri": "https://localhost:8080/"
        },
        "id": "yzenL4eBquM1",
        "outputId": "b14e182b-e0ad-49f1-deb0-dc8f0699b0d0"
      },
      "execution_count": null,
      "outputs": [
        {
          "output_type": "stream",
          "name": "stdout",
          "text": [
            "1/1 [==============================] - 0s 36ms/step\n",
            "positive \n",
            "[[0.97317874]]\n"
          ]
        }
      ]
    },
    {
      "cell_type": "code",
      "source": [
        "s=text_analysis('it is too much bad movie ')\n",
        "print(s)\n"
      ],
      "metadata": {
        "colab": {
          "base_uri": "https://localhost:8080/"
        },
        "id": "usm5VjnJrVHl",
        "outputId": "151a7beb-5259-4ec0-c15f-f793c62539b8"
      },
      "execution_count": null,
      "outputs": [
        {
          "output_type": "stream",
          "name": "stdout",
          "text": [
            "1/1 [==============================] - 0s 118ms/step\n",
            "negative \n",
            "[[0.05933639]]\n"
          ]
        }
      ]
    },
    {
      "cell_type": "code",
      "source": [
        "s=text_analysis('i donot like it')\n",
        "print(s)\n"
      ],
      "metadata": {
        "colab": {
          "base_uri": "https://localhost:8080/"
        },
        "id": "tuoEJXbpnsIP",
        "outputId": "1802bbe6-b0b2-48ab-ae03-b9d2b11915a1"
      },
      "execution_count": null,
      "outputs": [
        {
          "output_type": "stream",
          "name": "stdout",
          "text": [
            "1/1 [==============================] - 0s 28ms/step\n",
            "positive \n",
            "[[0.5107164]]\n"
          ]
        }
      ]
    },
    {
      "cell_type": "code",
      "source": [
        "s=text_analysis('it is impresive ')\n",
        "print(s)\n"
      ],
      "metadata": {
        "colab": {
          "base_uri": "https://localhost:8080/"
        },
        "id": "w21we1H8oKQZ",
        "outputId": "ef8149f9-805b-4019-af18-7e357fcb1725"
      },
      "execution_count": null,
      "outputs": [
        {
          "output_type": "stream",
          "name": "stdout",
          "text": [
            "1/1 [==============================] - 0s 41ms/step\n",
            "positive \n",
            "[[0.50443876]]\n"
          ]
        }
      ]
    },
    {
      "cell_type": "code",
      "source": [
        "s=text_analysis('it is not bad ')\n",
        "print(s)\n",
        "#look because we are not use transofrmer or lstm it not recognize the context like\n",
        "#not bad\n",
        "#don't like\n",
        "#like\n",
        "#so this model is just use word classifcation and not consider the context to much\n",
        "#this model it just use word like\n",
        "#bad so it consider it 's negative while the context could be not bad visversa positve too"
      ],
      "metadata": {
        "colab": {
          "base_uri": "https://localhost:8080/"
        },
        "id": "IrtxIQ9zoVE8",
        "outputId": "1305bf46-02a8-42d2-9124-9f556e0a8410"
      },
      "execution_count": null,
      "outputs": [
        {
          "output_type": "stream",
          "name": "stdout",
          "text": [
            "1/1 [==============================] - 0s 24ms/step\n",
            "negative \n",
            "[[0.471719]]\n"
          ]
        }
      ]
    },
    {
      "cell_type": "code",
      "source": [],
      "metadata": {
        "id": "Aai5lz7gwLba"
      },
      "execution_count": null,
      "outputs": []
    }
  ],
  "metadata": {
    "colab": {
      "provenance": [],
      "authorship_tag": "ABX9TyNnurFZMxxloBEaHnulFimj",
      "include_colab_link": true
    },
    "kernelspec": {
      "display_name": "Python 3",
      "name": "python3"
    },
    "language_info": {
      "name": "python"
    }
  },
  "nbformat": 4,
  "nbformat_minor": 0
}